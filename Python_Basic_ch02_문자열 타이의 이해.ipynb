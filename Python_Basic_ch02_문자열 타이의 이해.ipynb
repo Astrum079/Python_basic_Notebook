{
 "cells": [
  {
   "cell_type": "markdown",
   "id": "2861d9e2",
   "metadata": {},
   "source": [
    "## 1. 문자열(String)\n",
    "- 복수개의 문자를 순서대로 나열한 것\n",
    "- 문자열은 ''또는 \"\" 사이에 문자를 넣어서 생성\n",
    "- 문자열 자체에 '' 또는 \"\"이 있는 경우 각각 그 반대로 사용"
   ]
  },
  {
   "cell_type": "code",
   "execution_count": 3,
   "id": "8b0c1339",
   "metadata": {},
   "outputs": [
    {
     "name": "stdout",
     "output_type": "stream",
     "text": [
      "챗봇 : \"만나서 반갑습니다\"\n"
     ]
    }
   ],
   "source": [
    "print('챗봇 : \"만나서 반갑습니다\"')"
   ]
  },
  {
   "cell_type": "code",
   "execution_count": 4,
   "id": "893f75f6",
   "metadata": {},
   "outputs": [
    {
     "name": "stdout",
     "output_type": "stream",
     "text": [
      "Hi\n",
      "Hi\n",
      "Hi\n",
      "Hi\n"
     ]
    }
   ],
   "source": [
    "print('Hi')  #한 줄 출력\n",
    "print(\"Hi\")  #한 줄 출력\n",
    "print('''Hi''')  #여러 줄 출력(잘 안씀)\n",
    "print(\"\"\"Hi\"\"\")  #여러 줄 출력(잘 안씀)"
   ]
  },
  {
   "cell_type": "markdown",
   "id": "5263c502",
   "metadata": {},
   "source": [
    "## 2. 문자열 인덱스(index)\n",
    "- 문자열의 각 문자는 순서(인덱스)가 있음\n",
    "- 첫번째 문자부터 마지막 문자까지 순차적으로 인덱스를 가짐\n",
    "- 인덱스의 시작은 0번부터 시작\n",
    "- 인덱스는 공백 포함"
   ]
  },
  {
   "cell_type": "markdown",
   "id": "f436703d",
   "metadata": {},
   "source": [
    "### 문자 추출\n",
    "- 인덱스번호를 통해서 문자 추출 가능\n",
    "- 인덱스 범위를 벗어나면 error 발생\n",
    "\n",
    ">변수명[인덱스번호] → name[3]"
   ]
  },
  {
   "cell_type": "code",
   "execution_count": 10,
   "id": "2fa56fce",
   "metadata": {},
   "outputs": [
    {
     "name": "stdout",
     "output_type": "stream",
     "text": [
      "o\n"
     ]
    }
   ],
   "source": [
    "#문자열 길이 : 12\n",
    "#인덱스 범위 : 0~11\n",
    "msg=\"Hello Python\"\n",
    "print(msg[4])"
   ]
  },
  {
   "cell_type": "markdown",
   "id": "caffa596",
   "metadata": {},
   "source": [
    "### reverse index(-1)"
   ]
  },
  {
   "cell_type": "code",
   "execution_count": 11,
   "id": "40d022b3",
   "metadata": {},
   "outputs": [
    {
     "name": "stdout",
     "output_type": "stream",
     "text": [
      "n\n",
      "h\n"
     ]
    }
   ],
   "source": [
    "msg=\"Hello Python\"\n",
    "print(msg[-1])\n",
    "print(msg[-3])"
   ]
  },
  {
   "cell_type": "markdown",
   "id": "625c51b2",
   "metadata": {},
   "source": [
    "## 3. 문자열 슬라이싱\n",
    "- a[3]은 인덱스를 통해 문자 하나만 추출 가능\n",
    "- 부분 문자열을 추출하고 싶은 경우 슬라이싱 사용\n",
    "- 시작 인덱스 번호가 생략되면 0으로 설정\n",
    "- 끝 인덱스 번호가 생략되면 -1으로 설정\n",
    "\n",
    ">변수명[시작:끝] → name[3:5] 3~4(끝 인덱스 -1)\n"
   ]
  },
  {
   "cell_type": "code",
   "execution_count": 16,
   "id": "a064a2d0",
   "metadata": {},
   "outputs": [
    {
     "name": "stdout",
     "output_type": "stream",
     "text": [
      "P\n",
      "Python\n",
      "Python\n",
      " is all you need\n",
      "Python is all you need\n"
     ]
    }
   ],
   "source": [
    "comment=\"Python is all you need\"\n",
    "print(comment[0])\n",
    "print(comment[0:6])  #0~5\n",
    "print(comment[:6])  #0~5\n",
    "print(comment[6:])  #6~끝\n",
    "print(comment[:])"
   ]
  },
  {
   "cell_type": "code",
   "execution_count": 24,
   "id": "a28f9bcf",
   "metadata": {},
   "outputs": [
    {
     "name": "stdout",
     "output_type": "stream",
     "text": [
      "need\n"
     ]
    }
   ],
   "source": [
    "#need만 추출\n",
    "comment=\"Python is all you need\"\n",
    "print(comment[-4:])"
   ]
  },
  {
   "cell_type": "markdown",
   "id": "72654036",
   "metadata": {},
   "source": [
    "## 4. 문자열 멤버 함수"
   ]
  },
  {
   "cell_type": "code",
   "execution_count": 41,
   "id": "d62f7837",
   "metadata": {},
   "outputs": [],
   "source": [
    "str=\"Hello World\""
   ]
  },
  {
   "cell_type": "code",
   "execution_count": 43,
   "id": "fe7ae539",
   "metadata": {},
   "outputs": [
    {
     "name": "stdout",
     "output_type": "stream",
     "text": [
      "11\n"
     ]
    }
   ],
   "source": [
    "# len() : 문자열 길이를 계산\n",
    "\n",
    "print(len(str))"
   ]
  },
  {
   "cell_type": "code",
   "execution_count": 48,
   "id": "f9d07a0a",
   "metadata": {},
   "outputs": [
    {
     "name": "stdout",
     "output_type": "stream",
     "text": [
      "HELLO WORLD\n",
      "hello world\n",
      "2\n"
     ]
    }
   ],
   "source": [
    "#upper() and lower() : 대문자/소문자로 변경\n",
    "\n",
    "print(str.upper())\n",
    "print(str.lower())\n",
    "print(2)"
   ]
  },
  {
   "cell_type": "code",
   "execution_count": 70,
   "id": "a65c62df",
   "metadata": {},
   "outputs": [
    {
     "data": {
      "text/plain": [
       "'Hellz Wzrld'"
      ]
     },
     "execution_count": 70,
     "metadata": {},
     "output_type": "execute_result"
    }
   ],
   "source": [
    "#replace() : 문자열 내의 특정 문자 치환\n",
    "str.replace(\"o\",\"z\")  #복수개 치환 가능"
   ]
  },
  {
   "cell_type": "code",
   "execution_count": 73,
   "id": "f8f57aee",
   "metadata": {},
   "outputs": [
    {
     "name": "stdout",
     "output_type": "stream",
     "text": [
      "['hello ', 'orld ', 'hat a nice ', 'eather']\n",
      "['hello', 'world', 'what', 'a', 'nice', 'weather']\n"
     ]
    }
   ],
   "source": [
    "# split() : 구분자를 기준으로 문자열 분할, default 구분자 공백\n",
    "a=\"hello world what a nice weather\"\n",
    "print(a.split(\"w\"))\n",
    "print(a.split())"
   ]
  },
  {
   "cell_type": "code",
   "execution_count": null,
   "id": "e9a62134",
   "metadata": {},
   "outputs": [],
   "source": []
  }
 ],
 "metadata": {
  "kernelspec": {
   "display_name": "Python 3 (ipykernel)",
   "language": "python",
   "name": "python3"
  },
  "language_info": {
   "codemirror_mode": {
    "name": "ipython",
    "version": 3
   },
   "file_extension": ".py",
   "mimetype": "text/x-python",
   "name": "python",
   "nbconvert_exporter": "python",
   "pygments_lexer": "ipython3",
   "version": "3.9.13"
  }
 },
 "nbformat": 4,
 "nbformat_minor": 5
}
