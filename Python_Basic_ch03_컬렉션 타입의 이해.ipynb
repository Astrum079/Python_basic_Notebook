{
 "cells": [
  {
   "cell_type": "markdown",
   "metadata": {},
   "source": [
    "##  컬렉션 타입\n",
    "- 변수 : 하나의 값을 저장할 수 있는 메모리 공간\n",
    "- 컬렉션 타입 : 다양한 자료형의 여러값을 저장 가능\n",
    "- list, dict, tuple, set  \n",
    "  \n",
    "1. list[]\n",
    "  - 시퀀스 자료형(연속된 값 저장) → 정렬 가능\n",
    "  - mutable(생성 후 변경 가능)\n",
    "  - index 사용 → slicing 가능\n",
    "  - packing과 unpacking 가능\n",
    "  - 멤버함수 : append(), extend(), insert(), remove(), pop(), sort() 등등\n",
    "\n",
    "2. tuple()\n",
    "  - 시퀀스 자료형(연속된 값 저장) → 정렬 가능\n",
    "  - immutable(생성 후 변경 불가능)\n",
    "  - index 사용 → slicing 가능\n",
    "  - () 생략 가능\n",
    "  - 1개의 원소만 가지는 경우 ,사용 → (1,)\n",
    "\n",
    "3. dict{}\n",
    "  - key, value 한 쌍으로 구성된 구조\n",
    "  - key를 통해서 value 접근\n",
    "  - key 중복 불가, value 중복 가능\n",
    "  - 순서 없음 → index 없음\n",
    "  - 멤버함수 : update(), get(), keys(), values(), items()\n",
    "\n",
    "4. set{}\n",
    "  - dict type에서 key만 활용하는 데이터 구조로 이해\n",
    "  - 수학 집합과 같은 개념\n",
    "  - 순서 없음 → index 없음\n",
    "  - set 구조 내 중복값 허용 안함     >>>>>>> 주로 이 기능으로 씀\n",
    "  - 멤버함수 : union(), intersection(), difference() 등"
   ]
  },
  {
   "cell_type": "code",
   "execution_count": 7,
   "metadata": {},
   "outputs": [
    {
     "name": "stdout",
     "output_type": "stream",
     "text": [
      "[], [1, 2, 3], ['cnu', 3.14, [1, 2, 3]]\n"
     ]
    }
   ],
   "source": [
    "#list 초기화\n",
    "# 1. []\n",
    "# 2. list()\n",
    "\n",
    "list_a = []\n",
    "list_b = [1,2,3]\n",
    "list_c = [\"cnu\", 3.14, [1,2,3]]\n",
    "print(f\"{list_a}, {list_b}, {list_c}\")"
   ]
  },
  {
   "cell_type": "code",
   "execution_count": 11,
   "metadata": {},
   "outputs": [
    {
     "name": "stdout",
     "output_type": "stream",
     "text": [
      "['H', 'e', 'l', 'l', 'o']\n",
      "[1, 2, 3]\n"
     ]
    }
   ],
   "source": [
    "str_a = \"Hello\"\n",
    "list_d = list(str_a)  #문자열 → list 형변환\n",
    "print(list_d)\n",
    "\n",
    "tuple_a = (1, 2, 3)\n",
    "list_e=list(tuple_a)\n",
    "print(list_e)"
   ]
  },
  {
   "cell_type": "code",
   "execution_count": 12,
   "metadata": {},
   "outputs": [
    {
     "name": "stdout",
     "output_type": "stream",
     "text": [
      "4\n",
      "[1, 2, 3]\n",
      "[1, 2]\n"
     ]
    }
   ],
   "source": [
    "list_f = [1,2,3,4,5]\n",
    "print(list_f[3])\n",
    "print(list_f[:3])\n",
    "print(list_f[:2])"
   ]
  },
  {
   "cell_type": "code",
   "execution_count": 5,
   "metadata": {},
   "outputs": [
    {
     "name": "stdout",
     "output_type": "stream",
     "text": [
      "[1, 2, 3, 10, 7, 8, 9]\n"
     ]
    }
   ],
   "source": [
    "# append() : list 마지막에 값을 추가\n",
    "a=[1,2,3]\n",
    "b=[7,8,9]\n",
    "a.append(10)\n",
    "a.extend(b)\n",
    "print(a)"
   ]
  },
  {
   "cell_type": "code",
   "execution_count": 15,
   "metadata": {},
   "outputs": [
    {
     "name": "stdout",
     "output_type": "stream",
     "text": [
      "[1, 99, 2, 3]\n"
     ]
    }
   ],
   "source": [
    "# insert() : list 원하는 인덱스 위치에 값을 추가\n",
    "a=[1,2,3]\n",
    "a.insert(1,99)\n",
    "print(a)"
   ]
  },
  {
   "cell_type": "code",
   "execution_count": 6,
   "metadata": {},
   "outputs": [
    {
     "name": "stdout",
     "output_type": "stream",
     "text": [
      "[1, 2, 3, [4, 5, 6]]\n",
      "[1, 2, 3, 4, 5, 6]\n"
     ]
    }
   ],
   "source": [
    "#extend() : list와 list 병합\n",
    "a=[1,2,3]\n",
    "b=[4,5,6]\n",
    "a.append(b)\n",
    "print(a)\n",
    "a.remove(b)\n",
    "#a.extend(b)  #extend : 연장하다\n",
    "a+=b  # a = a + b, -=, *= 등 자매품 다수\n",
    "print(a)"
   ]
  },
  {
   "cell_type": "code",
   "execution_count": 13,
   "metadata": {},
   "outputs": [
    {
     "name": "stdout",
     "output_type": "stream",
     "text": [
      "[1, 3, 2]\n"
     ]
    }
   ],
   "source": [
    "#remove() : 값을 통해 삭제(인덱스 아님!)\n",
    "\n",
    "a=[1,2,3,2]\n",
    "a.remove(2)\n",
    "print(a)"
   ]
  },
  {
   "cell_type": "code",
   "execution_count": 14,
   "metadata": {},
   "outputs": [
    {
     "name": "stdout",
     "output_type": "stream",
     "text": [
      "[4, 5]\n",
      "6\n"
     ]
    }
   ],
   "source": [
    "#pop() : index를 통해 삭제(+삭제 전 값을 변수에 저장 가능)\n",
    "\n",
    "a=[4,5,6]\n",
    "b=a.pop(2)\n",
    "print(a)\n",
    "print(b)"
   ]
  },
  {
   "cell_type": "code",
   "execution_count": 22,
   "metadata": {},
   "outputs": [
    {
     "name": "stdout",
     "output_type": "stream",
     "text": [
      "2\n"
     ]
    }
   ],
   "source": [
    "#index() : 찾고자 하는 값의 인덱스 번호 출력\n",
    "a=[8,10,20,5,3]\n",
    "print(a.index(20))"
   ]
  },
  {
   "cell_type": "code",
   "execution_count": 30,
   "metadata": {},
   "outputs": [
    {
     "name": "stdout",
     "output_type": "stream",
     "text": [
      "kts6481\n"
     ]
    }
   ],
   "source": [
    "email=\"kts6481@gmail.com\"\n",
    "email_idx=email.index('@')\n",
    "print(email[:email_idx])\n"
   ]
  },
  {
   "cell_type": "code",
   "execution_count": 34,
   "metadata": {},
   "outputs": [
    {
     "name": "stdout",
     "output_type": "stream",
     "text": [
      "True\n",
      "False\n"
     ]
    }
   ],
   "source": [
    "#in : list내에 해당 값이 존재(True, False)\n",
    "a=[1,2,3]\n",
    "print(3 in a)\n",
    "print(5 in a)"
   ]
  },
  {
   "cell_type": "code",
   "execution_count": 24,
   "metadata": {},
   "outputs": [
    {
     "name": "stdout",
     "output_type": "stream",
     "text": [
      "[5, 3, 9, 17, 3, 24, 7, 2]\n",
      "==========================\n",
      "[2, 3, 3, 5, 7, 9, 17, 24]\n",
      "[24, 17, 9, 7, 5, 3, 3, 2]\n"
     ]
    }
   ],
   "source": [
    "#sort() and sorted() : list 정렬\n",
    "# - sort() : 원본 list 정렬\n",
    "# - sorted() : list 복제 후 정렬\n",
    "a=[5,3,9,17,3,24,7,2]\n",
    "b=sorted(a)  #정렬 default : 오름차순\n",
    "print(a)\n",
    "print('='*26)\n",
    "print(b)\n",
    "b.sort(reverse=True)\n",
    "print(b)"
   ]
  },
  {
   "cell_type": "code",
   "execution_count": 60,
   "metadata": {},
   "outputs": [
    {
     "name": "stdout",
     "output_type": "stream",
     "text": [
      "전화번호를 입력해 주세요\n",
      "Nonephone_num[:3]\n"
     ]
    },
    {
     "ename": "TypeError",
     "evalue": "'NoneType' object is not subscriptable",
     "output_type": "error",
     "traceback": [
      "\u001b[1;31m---------------------------------------------------------------------------\u001b[0m",
      "\u001b[1;31mTypeError\u001b[0m                                 Traceback (most recent call last)",
      "\u001b[1;32m~\\AppData\\Local\\Temp\\ipykernel_17844\\3426500949.py\u001b[0m in \u001b[0;36m<module>\u001b[1;34m\u001b[0m\n\u001b[0;32m      2\u001b[0m \u001b[1;31m#phone_num=None\u001b[0m\u001b[1;33m\u001b[0m\u001b[1;33m\u001b[0m\u001b[0m\n\u001b[0;32m      3\u001b[0m \u001b[0minput\u001b[0m\u001b[1;33m(\u001b[0m\u001b[0mphone_num\u001b[0m\u001b[1;33m)\u001b[0m\u001b[1;33m\u001b[0m\u001b[1;33m\u001b[0m\u001b[0m\n\u001b[1;32m----> 4\u001b[1;33m \u001b[0mphone_num\u001b[0m\u001b[1;33m[\u001b[0m\u001b[1;33m:\u001b[0m\u001b[1;36m3\u001b[0m\u001b[1;33m]\u001b[0m\u001b[1;33m\u001b[0m\u001b[1;33m\u001b[0m\u001b[0m\n\u001b[0m\u001b[0;32m      5\u001b[0m \u001b[0mphone_num\u001b[0m\u001b[1;33m[\u001b[0m\u001b[1;33m:\u001b[0m\u001b[1;36m3\u001b[0m\u001b[1;33m]\u001b[0m\u001b[1;33m\u001b[0m\u001b[1;33m\u001b[0m\u001b[0m\n",
      "\u001b[1;31mTypeError\u001b[0m: 'NoneType' object is not subscriptable"
     ]
    }
   ],
   "source": [
    "\n",
    "print(\"전화번호를 입력해 주세요\")\n",
    "#phone_num=None\n",
    "input(phone_num)\n",
    "phone_num[:3]\n",
    "phone_num[:3]\n",
    "phone_num[:3]"
   ]
  },
  {
   "cell_type": "markdown",
   "metadata": {},
   "source": [
    "### 2. tuple "
   ]
  },
  {
   "cell_type": "code",
   "execution_count": 63,
   "metadata": {},
   "outputs": [
    {
     "name": "stdout",
     "output_type": "stream",
     "text": [
      "<class 'list'>\n",
      "<class 'tuple'>\n",
      "<class 'tuple'>\n",
      "[99, 2, 3]\n"
     ]
    }
   ],
   "source": [
    "a=[1,2,3]  #list type\n",
    "b=(1,2,3)  #tuple type\n",
    "c=5,6,7  #tuple type\n",
    "\n",
    "print(type(a))\n",
    "print(type(b))\n",
    "print(type(c))\n",
    "\n",
    "a[0] = 99\n",
    "print(a)\n"
   ]
  },
  {
   "cell_type": "code",
   "execution_count": 66,
   "metadata": {},
   "outputs": [
    {
     "name": "stdout",
     "output_type": "stream",
     "text": [
      "1 2 3\n"
     ]
    }
   ],
   "source": [
    "# packing and unpacking\n",
    "# - list와 tuple 가능\n",
    "# - [], () -> 값을 묶음(packing)\n",
    "\n",
    "tuple_num=(1,2,3)  #packing\n",
    "a,b,c=tuple_num  #unpacking\n",
    "print(a,b,c)"
   ]
  },
  {
   "cell_type": "markdown",
   "metadata": {},
   "source": [
    "### 연습문제\n",
    "\n",
    "변수 a와 b의 값을 교환하세요"
   ]
  },
  {
   "cell_type": "code",
   "execution_count": 67,
   "metadata": {},
   "outputs": [
    {
     "name": "stdout",
     "output_type": "stream",
     "text": [
      "9\n",
      "5\n"
     ]
    }
   ],
   "source": [
    "a=5\n",
    "b=9\n",
    "#코드 작성\n",
    "#임시변수 활용\n",
    "c=b\n",
    "b=a\n",
    "a=c\n",
    "\n",
    "print(a)  #출력 9\n",
    "print(b)  #출력 5\n"
   ]
  },
  {
   "cell_type": "code",
   "execution_count": 71,
   "metadata": {},
   "outputs": [
    {
     "name": "stdout",
     "output_type": "stream",
     "text": [
      "9\n",
      "5\n"
     ]
    }
   ],
   "source": [
    "a=5\n",
    "b=9\n",
    "#코드 작성\n",
    "# r sort\n",
    "c=[a,b]\n",
    "c.sort(reverse=True)\n",
    "a,b=c\n",
    "\n",
    "print(a)  #출력 9\n",
    "print(b)  #출력 5"
   ]
  },
  {
   "cell_type": "code",
   "execution_count": 72,
   "metadata": {},
   "outputs": [
    {
     "name": "stdout",
     "output_type": "stream",
     "text": [
      "9\n",
      "5\n"
     ]
    }
   ],
   "source": [
    "a=5\n",
    "b=9\n",
    "#코드 작성\n",
    "#tuple 사용\n",
    "a,b=b,a\n",
    "\n",
    "print(a)  #출력 9\n",
    "print(b)  #출력 5"
   ]
  },
  {
   "cell_type": "markdown",
   "metadata": {},
   "source": [
    "### 3. dict"
   ]
  },
  {
   "cell_type": "code",
   "execution_count": 77,
   "metadata": {},
   "outputs": [
    {
     "name": "stdout",
     "output_type": "stream",
     "text": [
      "ottawa\n",
      "9\n"
     ]
    }
   ],
   "source": [
    "#         \"key\" : \"value\"\n",
    "dict_a={\"korea\" : \"seoul\",\n",
    "        \"canada\":\"ottawa\",\n",
    "        \"usa\" : \"wasington D.C\"}\n",
    "dict_b={0:1,1:6,2:4,3:9}\n",
    "print(dict_a[\"canada\"])\n",
    "print(dict_b[3])\n"
   ]
  },
  {
   "cell_type": "code",
   "execution_count": 86,
   "metadata": {},
   "outputs": [
    {
     "name": "stdout",
     "output_type": "stream",
     "text": [
      "{'canada': 'ottawa',\n",
      " 'japan': 'kyoto',\n",
      " 'japan2': 'kyoto',\n",
      " 'korea': 'seoul',\n",
      " 'usa': 'washington D.C'}\n"
     ]
    }
   ],
   "source": [
    "import pprint\n",
    "dict_a={\"korea\" : \"seoul\",\n",
    "        \"canada\":\"ottawa\",\n",
    "        \"usa\" : \"washington D.C\"}\n",
    "\n",
    "#값을 입력 → key값이 없다=입력, key값이 있다=수정\n",
    "dict_a[\"japan\"]=\"tokyo\"\n",
    "dict_a[\"japan\"]=\"kyoto\"\n",
    "dict_a[\"japan2\"]=\"kyoto\"\n",
    "#print(dict_a)\n",
    "pprint.pprint(dict_a)"
   ]
  },
  {
   "cell_type": "code",
   "execution_count": 105,
   "metadata": {},
   "outputs": [
    {
     "name": "stdout",
     "output_type": "stream",
     "text": [
      "{'a': 9, 'b': 2, 'd': 4, 'e': 5}\n"
     ]
    }
   ],
   "source": [
    "#update() : dict와 dict 병합\n",
    "    \n",
    "a={\n",
    "    \"a\":1,\n",
    "    \"b\":2\n",
    "}\n",
    "b={\n",
    "    \"a\":9,\n",
    "    \"d\":4,\n",
    "    \"e\":5\n",
    "}\n",
    "a.update(b)  #추가한 값(=괄호 안의 값)의 우선순위가 더 높음\n",
    "print(a)"
   ]
  },
  {
   "cell_type": "code",
   "execution_count": 106,
   "metadata": {},
   "outputs": [
    {
     "name": "stdout",
     "output_type": "stream",
     "text": [
      "{'b': 2, 'd': 4, 'e': 5}\n",
      "9\n"
     ]
    }
   ],
   "source": [
    "#pop() : dict 항목 삭제\n",
    "c=a.pop(\"a\")\n",
    "print(a)\n",
    "print(c)"
   ]
  },
  {
   "cell_type": "code",
   "execution_count": 98,
   "metadata": {},
   "outputs": [
    {
     "name": "stdout",
     "output_type": "stream",
     "text": [
      "5\n",
      "None\n"
     ]
    }
   ],
   "source": [
    "#값 접근\n",
    "print(a[\"e\"])\n",
    "#print(a[\"f\"])\n",
    "print(a.get(\"f\"))"
   ]
  },
  {
   "cell_type": "code",
   "execution_count": 99,
   "metadata": {},
   "outputs": [
    {
     "name": "stdout",
     "output_type": "stream",
     "text": [
      "True\n"
     ]
    }
   ],
   "source": [
    "#in\n",
    "print(\"b\"in a)"
   ]
  },
  {
   "cell_type": "code",
   "execution_count": 100,
   "metadata": {},
   "outputs": [
    {
     "name": "stdout",
     "output_type": "stream",
     "text": [
      "{'b': 2, 'd': 4, 'e': 5}\n",
      "{}\n"
     ]
    }
   ],
   "source": [
    "#clear() : dict 초기화\n",
    "print(a)\n",
    "a.clear()\n",
    "print(a)\n"
   ]
  },
  {
   "cell_type": "code",
   "execution_count": 16,
   "metadata": {
    "scrolled": true
   },
   "outputs": [
    {
     "name": "stdout",
     "output_type": "stream",
     "text": [
      "{'a': 1, 'b': 2}\n",
      "dict_keys(['a', 'b'])\n",
      "<class 'dict_keys'>\n",
      "dict_values([1, 2])\n",
      "<class 'dict_values'>\n",
      "dict_items([('a', 1), ('b', 2)])\n",
      "<class 'dict_items'>\n",
      "['a', 'b']\n",
      "<class 'list'>\n",
      "[('a', 1), ('b', 2)]\n",
      "<class 'list'>\n",
      "<class 'tuple'>\n"
     ]
    }
   ],
   "source": [
    "# keys() : key값만 반환\n",
    "# values() : value값만 반환\n",
    "# items() : key, value값을 tuple로 반환\n",
    "\n",
    "a={\n",
    "    \"a\" : 1,\n",
    "    \"b\" : 2\n",
    "}\n",
    "print(a)\n",
    "print(a.keys())\n",
    "print(type(a.keys()))\n",
    "print(a.values())\n",
    "print(type(a.values()))\n",
    "print(a.items())\n",
    "print(type(a.items()))\n",
    "\n",
    "print(list(a.keys()))\n",
    "print(type(list(a.keys())))\n",
    "\n",
    "\n",
    "print(list(a.items()))\n",
    "val=list(a.items())\n",
    "print(type(val))\n",
    "print(type(val[0]))"
   ]
  },
  {
   "cell_type": "markdown",
   "metadata": {},
   "source": [
    "### 4. set"
   ]
  },
  {
   "cell_type": "code",
   "execution_count": 21,
   "metadata": {},
   "outputs": [
    {
     "name": "stdout",
     "output_type": "stream",
     "text": [
      "[1, 1, 1, 2, 2, 2, 3, 3, 4, 4, 5]\n",
      "{1, 2, 3, 4, 5}\n",
      "<class 'dict'>\n"
     ]
    }
   ],
   "source": [
    "list_z=[1,1,1,2,2,2,3,3,4,4,5]\n",
    "print(list_z)\n",
    "set_a=set(list_z)  #중복값 제거\n",
    "print(set_a)\n",
    "\n",
    "#set? dict?\n",
    "j={}\n",
    "print(type(j))"
   ]
  },
  {
   "cell_type": "code",
   "execution_count": 22,
   "metadata": {},
   "outputs": [
    {
     "name": "stdout",
     "output_type": "stream",
     "text": [
      "{1, 2, 3, 4}\n",
      "{2, 3}\n",
      "{1}\n",
      "False\n"
     ]
    }
   ],
   "source": [
    "a={1,2,3}\n",
    "b={2,3,4}\n",
    "print(a.union(b))  #합집합\n",
    "print(a.intersection(b))  #교집합\n",
    "print(a.difference(b))  #차집합\n",
    "print(a.issubset(b))  #부분집합(b가 {1,2,3,4}dlaus)\n"
   ]
  },
  {
   "cell_type": "markdown",
   "metadata": {},
   "source": [
    "## 컬렉션 타입\n",
    "*리스트  \n",
    "*튜플  \n",
    "--------시퀀스 형태-----------  \n",
    "*딕트(key 중복불가, value 중복가능)  \n",
    "*세트  \n",
    "--------중복 허용------------  \n",
    "리스트[]  \n",
    "튜플()  \n",
    "딕트{ : }  keys values items  \n",
    "세트 {}"
   ]
  },
  {
   "cell_type": "code",
   "execution_count": null,
   "metadata": {},
   "outputs": [],
   "source": []
  }
 ],
 "metadata": {
  "kernelspec": {
   "display_name": "Python 3 (ipykernel)",
   "language": "python",
   "name": "python3"
  },
  "language_info": {
   "codemirror_mode": {
    "name": "ipython",
    "version": 3
   },
   "file_extension": ".py",
   "mimetype": "text/x-python",
   "name": "python",
   "nbconvert_exporter": "python",
   "pygments_lexer": "ipython3",
   "version": "3.9.13"
  }
 },
 "nbformat": 4,
 "nbformat_minor": 4
}
