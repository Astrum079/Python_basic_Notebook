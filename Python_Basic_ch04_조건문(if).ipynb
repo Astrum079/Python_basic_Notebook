{
 "cells": [
  {
   "cell_type": "markdown",
   "id": "4e202a12",
   "metadata": {},
   "source": [
    "## 2. 조건문(condition)\n",
    "\n",
    "1. if, elif, else\n",
    "- 특정조건을 만족하는 경우에만 수행할 작업이 있는 경우 사용\n",
    "- 모든 조건은 loolean으로 표현(예외사항 있음)\n",
    "- if, elif, else 키워드 사용\n",
    "- 조건문의 경우 if, elif, else 블록 내에 종속 된 코드로 들여쓰기 표현\n",
    "- python에서 모든 블록문의 시작점의 마지막에는 :(콜론, colon) 추가\n",
    "\n",
    "\n",
    "```python\n",
    "#if문 기본 문법\n",
    "#if~elif~else가 하나의 체인으로 연결\n",
    "#위에서 아래로 해석하며, 참인 경우 그 후로는 실행 x\n",
    "if 조건문:\n",
    "    실행문\n",
    "elif 조건문:\n",
    "    실행문\n",
    "else:\n",
    "    실행문\n",
    "```\n",
    "```python\n",
    "#서로다른 if문\n",
    "if 조건문:\n",
    "    실행문\n",
    "    \n",
    "if 조건문:\n",
    "    실행문\n",
    "```\n",
    "```python\n",
    "#중첩 if문\n",
    "if 조건문:\n",
    "    실행문\n",
    "    if 조건문:\n",
    "        실행문\n",
    "        if 조건문:\n",
    "            실행문\n",
    "```"
   ]
  },
  {
   "cell_type": "code",
   "execution_count": 6,
   "id": "b606281c",
   "metadata": {},
   "outputs": [
    {
     "name": "stdout",
     "output_type": "stream",
     "text": [
      "미자\n"
     ]
    }
   ],
   "source": [
    "# if 조건이 1개인 경우(성인 판단)\n",
    "\n",
    "age=18\n",
    "\n",
    "if age>=20:\n",
    "    print(\"성인\")\n"
   ]
  },
  {
   "cell_type": "code",
   "execution_count": 8,
   "id": "a5be2cb7",
   "metadata": {},
   "outputs": [
    {
     "name": "stdout",
     "output_type": "stream",
     "text": [
      "성인\n"
     ]
    }
   ],
   "source": [
    "#if~else 조건 1개와 조건 이외의 경우\n",
    "age=22\n",
    "\n",
    "if age>=20:\n",
    "    print(\"성인\")\n",
    "else:\n",
    "    print(\"미자\")\n"
   ]
  },
  {
   "cell_type": "code",
   "execution_count": 9,
   "id": "16231f5a",
   "metadata": {},
   "outputs": [
    {
     "name": "stdout",
     "output_type": "stream",
     "text": [
      "3학년\n"
     ]
    }
   ],
   "source": [
    "#if~elif 조건이 2개 이상인 경우\n",
    "grade=3\n",
    "\n",
    "if grade==4:\n",
    "    print(\"4학년\")\n",
    "elif grade==3:\n",
    "    print(\"3학년\")\n",
    "elif grade==2:\n",
    "    print(\"2학년\")\n",
    "elif grade==1:\n",
    "    print(\"1학년\")"
   ]
  },
  {
   "cell_type": "code",
   "execution_count": 10,
   "id": "c6d6300b",
   "metadata": {},
   "outputs": [
    {
     "name": "stdout",
     "output_type": "stream",
     "text": [
      "1등급\n"
     ]
    }
   ],
   "source": [
    "#if~elif~else 조건 2개 이상과 조건 이외의 경우\n",
    "score=95\n",
    "\n",
    "if score>=90:\n",
    "    print(\"1등급\")\n",
    "elif score>=80:\n",
    "    print(\"2등급\")\n",
    "elif score>=70:\n",
    "    print(\"3등급\")\n",
    "elif score>=60:\n",
    "    print(\"4등급\")\n",
    "else:\n",
    "    print(\"5등급\")"
   ]
  },
  {
   "cell_type": "markdown",
   "id": "de83d20c",
   "metadata": {},
   "source": [
    "### 2. if의 조건이 boolean인 경우\n",
    "- 일반적으로 조건문은 boolean\n",
    "- 하지만, 정수, 실수, 문자열, 리스트 등 기본 타입도 조건에 사용 가능\n",
    "- False로 간주되는 값(각 타입의 기본값)\n",
    "\n",
    " + None\n",
    " + 0(int)\n",
    " + 0.0(float)\n",
    " + \"\"(str)\n",
    " + [] (list)\n",
    " + {} (dict)\n",
    " + () (tuple)\n",
    " + set()\n",
    " + 그 밖에 모두 True로 간주"
   ]
  },
  {
   "cell_type": "markdown",
   "id": "8b4849d5",
   "metadata": {},
   "source": [
    "### 3. 논리 연산자(AND, OR, NOT)\n",
    "\n",
    "논리표\n",
    " - AND\n",
    "  + T and T : T\n",
    "  + T and F : F\n",
    "  + F and T : F\n",
    "  + F and F : F\n",
    " - OR\n",
    "  + T or T : T\n",
    "  + T or F : T\n",
    "  + F or T : T\n",
    "  + F or F : F\n",
    " - NOT\n",
    "  + not T : F\n",
    "  + not F : T\n",
    "  "
   ]
  },
  {
   "cell_type": "markdown",
   "id": "7f717329",
   "metadata": {},
   "source": [
    "### 연습문제"
   ]
  },
  {
   "cell_type": "code",
   "execution_count": 22,
   "id": "e9b9fdcb",
   "metadata": {},
   "outputs": [
    {
     "name": "stdout",
     "output_type": "stream",
     "text": [
      "당신이 태어난 연도를 입력하세요 : 2012\n",
      "2023\n",
      "12\n",
      "초등학생입니다.\n"
     ]
    }
   ],
   "source": [
    "# 문제1. 어떤 종류의 학생인지 맞히기\n",
    "from datetime import datetime\n",
    "born=input(\"당신이 태어난 연도를 입력하세요 : \")  #1. 사용자로부터 태어난 연도 입력받기\n",
    "\n",
    "print(datetime.today().year)\n",
    "age=datetime.today().year-int(born)+1\n",
    "print(age)\n",
    "\n",
    "if age<=7:\n",
    "    print(\"미취학 아동입니다.\")\n",
    "elif age<=13 :\n",
    "    print(\"초등학생입니다.\")\n",
    "elif age<=16:\n",
    "    print(\"중학생입니다.\")\n",
    "elif age<=19:\n",
    "    print(\"고등학생입니다.\")\n",
    "elif age<=26:\n",
    "    print(\"대학생입니다.\")\n",
    "else:\n",
    "    print(\"학생이 아닙니다.\")\n",
    "\n"
   ]
  },
  {
   "cell_type": "code",
   "execution_count": 20,
   "id": "24d21e8d",
   "metadata": {},
   "outputs": [
    {
     "name": "stdout",
     "output_type": "stream",
     "text": [
      "당신이 태어난 연도를 입력하세요 : 2009\n",
      "2023\n",
      "15\n",
      "중학생입니다.\n"
     ]
    }
   ],
   "source": [
    "# 문제1. 어떤 종류의 학생인지 맞히기\n",
    "from datetime import datetime\n",
    "born=input(\"당신이 태어난 연도를 입력하세요 : \")  #1. 사용자로부터 태어난 연도 입력받기\n",
    "\n",
    "print(datetime.today().year)\n",
    "age=datetime.today().year-int(born)+1\n",
    "print(age)\n",
    "\n",
    "if age<=26 and age>=20:\n",
    "    print(\"대학생입니다.\")\n",
    "elif age<20 and age>=17:\n",
    "    print(\"고등학생입니다.\")\n",
    "elif age<17 and age>=14:\n",
    "    print(\"중학생입니다.\")\n",
    "elif age<13 and age>=8:\n",
    "    print(\"초등학생입니다.\")\n",
    "else:\n",
    "    print(\"학생이 아닙니다.\")\n",
    "\n"
   ]
  },
  {
   "cell_type": "code",
   "execution_count": 35,
   "id": "0bca0aa1",
   "metadata": {},
   "outputs": [
    {
     "name": "stdout",
     "output_type": "stream",
     "text": [
      "학점을 입력해 주세요 : 3.123456789\n",
      "C\n"
     ]
    }
   ],
   "source": [
    "# 문제 2. 학점 계산기\n",
    "\n",
    "#1. 사용자로부터 학점 입력받기(소수점, ex 4.2)\n",
    "# + 추가조건 : 사용자가 입력한 값이 0.0~4.5이면 2번으로\n",
    "#               아니면 error 출력\n",
    "#2. 입력받은 학점에 따라 등급 출력\n",
    "# 4.0~4.5 A\n",
    "# 3.5~3.9 B\n",
    "# 3.0~3.4 C\n",
    "# 2.5~2.9 D\n",
    "# 그 외 F\n",
    "\n",
    "score_input=input(\"학점을 입력해 주세요 : \")\n",
    "score = float(score_input)\n",
    "\n",
    "if score>=0.0 and score<=4.5:\n",
    "    \n",
    "    if score==4.5:\n",
    "        print(\"A\\n이거 보기보다 독한놈이였구만\")\n",
    "    elif score>=4.0:\n",
    "        print(\"A\")\n",
    "    elif score>=3.5:\n",
    "        print(\"B\")\n",
    "    elif score>=3.0:\n",
    "        print(\"C\")\n",
    "    elif score>=2.5:\n",
    "        print(\"D\")\n",
    "    else:\n",
    "        print(\"F\")\n",
    "        \n",
    "elif score>4.5:\n",
    "    print(\"입력한 값이 너무 큽니다?\")\n",
    "else:\n",
    "    print(\"입력한 값이 너무 작습니다?\")"
   ]
  },
  {
   "cell_type": "code",
   "execution_count": null,
   "id": "ba02f026",
   "metadata": {},
   "outputs": [],
   "source": []
  },
  {
   "cell_type": "code",
   "execution_count": null,
   "id": "f5ed55bb",
   "metadata": {},
   "outputs": [],
   "source": []
  },
  {
   "cell_type": "code",
   "execution_count": null,
   "id": "2bff4891",
   "metadata": {},
   "outputs": [],
   "source": []
  },
  {
   "cell_type": "code",
   "execution_count": null,
   "id": "52b772d2",
   "metadata": {},
   "outputs": [],
   "source": []
  },
  {
   "cell_type": "code",
   "execution_count": null,
   "id": "af770bbd",
   "metadata": {},
   "outputs": [],
   "source": []
  }
 ],
 "metadata": {
  "kernelspec": {
   "display_name": "Python 3 (ipykernel)",
   "language": "python",
   "name": "python3"
  },
  "language_info": {
   "codemirror_mode": {
    "name": "ipython",
    "version": 3
   },
   "file_extension": ".py",
   "mimetype": "text/x-python",
   "name": "python",
   "nbconvert_exporter": "python",
   "pygments_lexer": "ipython3",
   "version": "3.9.13"
  }
 },
 "nbformat": 4,
 "nbformat_minor": 5
}
