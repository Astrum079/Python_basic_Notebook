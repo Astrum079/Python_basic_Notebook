{
 "cells": [
  {
   "cell_type": "markdown",
   "id": "c7759f63",
   "metadata": {},
   "source": [
    "## 1. loop(반복문)\n",
    "- 반복적인 작업을 가능하게 해주는 도구\n",
    "- list, str, tuple 등 컬렉션 타입의 경우 아이템을 하나씩 순회하면서 사용(for)\n",
    "- 특정 조건을 만족하는 경우 계속 수행(while)\n",
    "\n",
    "#### - 반복횟수를 안다->for, 반복횟수를 모른다->while"
   ]
  },
  {
   "cell_type": "code",
   "execution_count": 8,
   "id": "b8f009ca",
   "metadata": {},
   "outputs": [
    {
     "name": "stdout",
     "output_type": "stream",
     "text": [
      "1\n",
      "2\n",
      "3\n"
     ]
    }
   ],
   "source": [
    "# 컬렉션 타입을 활용한 반복문\n",
    "list_a=[1,2,3]\n",
    "\n",
    "for num in list_a:\n",
    "    print(num)\n",
    "    "
   ]
  },
  {
   "cell_type": "code",
   "execution_count": 1,
   "id": "1d4daef8",
   "metadata": {},
   "outputs": [
    {
     "name": "stdout",
     "output_type": "stream",
     "text": [
      "0\n",
      "1\n",
      "2\n",
      "3\n",
      "4\n",
      "5\n",
      "6\n",
      "7\n",
      "8\n",
      "9\n"
     ]
    }
   ],
   "source": [
    "# range함수를 활용한 반복문\n",
    "# range(시작값,끝값+1)\n",
    "\n",
    "list(range(1,11))\n",
    "\n",
    "for i in range(10):\n",
    "    print(i)"
   ]
  },
  {
   "cell_type": "code",
   "execution_count": 15,
   "id": "5a978416",
   "metadata": {},
   "outputs": [
    {
     "name": "stdout",
     "output_type": "stream",
     "text": [
      "0 7\n",
      "1 8\n",
      "2 9\n"
     ]
    }
   ],
   "source": [
    "# enumerate 함수를 활용한 반복문\n",
    "\n",
    "# enumerate : 지금이 몇회차인지(=반복횟수, 인덱스) 알고싶을때 사용\n",
    "\n",
    "a=[7,8,9]\n",
    "for i,val in enumerate(a):\n",
    "    print(i,val)  #앞에 인덱스번호가 붙음"
   ]
  },
  {
   "cell_type": "code",
   "execution_count": 6,
   "id": "bbb0ca2e",
   "metadata": {},
   "outputs": [
    {
     "name": "stdout",
     "output_type": "stream",
     "text": [
      "0 0\n",
      "0 1\n",
      "0 2\n",
      "1 0\n",
      "1 1\n",
      "1 2\n",
      "2 0\n",
      "2 1\n",
      "2 2\n",
      "3 0\n",
      "3 1\n",
      "3 2\n",
      "4 0\n",
      "4 1\n",
      "4 2\n"
     ]
    }
   ],
   "source": [
    "# 중첩 for문\n",
    "for i in range(5):     # 위에거 한번 돌때 아래거 3번\n",
    "    for j in range(3):\n",
    "        print(i,j)"
   ]
  },
  {
   "cell_type": "code",
   "execution_count": 8,
   "id": "32cd25b4",
   "metadata": {},
   "outputs": [
    {
     "name": "stdout",
     "output_type": "stream",
     "text": [
      "index: 0, value: A\n",
      "index: 1, value: B\n",
      "index: 2, value: C\n",
      "index: 3, value: D\n"
     ]
    }
   ],
   "source": [
    "a = [\"A\",\"B\",\"C\",\"D\"]\n",
    "for i, val in enumerate(a):\n",
    "    print(f\"index: {i}, value: {val}\")"
   ]
  },
  {
   "cell_type": "code",
   "execution_count": 10,
   "id": "3d188800",
   "metadata": {},
   "outputs": [
    {
     "name": "stdout",
     "output_type": "stream",
     "text": [
      "korea\n",
      "japan\n",
      "canada\n"
     ]
    }
   ],
   "source": [
    "# dict type\n",
    "a = {\n",
    "    \"korea\" : \"seoul\",\n",
    "    \"japan\" : \"tokyo\",\n",
    "    \"canada\" : \"ottawa\"\n",
    "}\n",
    "for key in a:\n",
    "    print(key)"
   ]
  },
  {
   "cell_type": "code",
   "execution_count": 11,
   "id": "b5d3725a",
   "metadata": {},
   "outputs": [
    {
     "name": "stdout",
     "output_type": "stream",
     "text": [
      "seoul\n",
      "tokyo\n",
      "ottawa\n"
     ]
    }
   ],
   "source": [
    "for value in a.values():\n",
    "    print(value)"
   ]
  },
  {
   "cell_type": "code",
   "execution_count": 12,
   "id": "cfeacb02",
   "metadata": {},
   "outputs": [
    {
     "name": "stdout",
     "output_type": "stream",
     "text": [
      "korea seoul\n",
      "japan tokyo\n",
      "canada ottawa\n"
     ]
    }
   ],
   "source": [
    "for key, value in a.items():\n",
    "    print(key, value)"
   ]
  },
  {
   "cell_type": "code",
   "execution_count": 13,
   "id": "8a2780ab",
   "metadata": {},
   "outputs": [
    {
     "name": "stdout",
     "output_type": "stream",
     "text": [
      "1\n",
      "2\n",
      "3\n"
     ]
    }
   ],
   "source": [
    "# break : 반복문 종료\n",
    "a = [1,2,3,4,5]\n",
    "\n",
    "for num in a:\n",
    "    if num > 3:\n",
    "        break\n",
    "    print(num)"
   ]
  },
  {
   "cell_type": "code",
   "execution_count": 14,
   "id": "1e4a9b9c",
   "metadata": {},
   "outputs": [
    {
     "name": "stdout",
     "output_type": "stream",
     "text": [
      "1\n",
      "3\n",
      "5\n"
     ]
    }
   ],
   "source": [
    "# continue: 해당 반복을 건너뛰고 다음 반복으로 이동(반복문 종료X)\n",
    "\n",
    "a = [1,2,3,4,5]\n",
    "\n",
    "for num in a:\n",
    "    if num % 2 == 0:  # 짝수 판별\n",
    "        continue\n",
    "    print(num)"
   ]
  },
  {
   "cell_type": "code",
   "execution_count": null,
   "id": "ce712eae",
   "metadata": {},
   "outputs": [],
   "source": []
  },
  {
   "cell_type": "markdown",
   "id": "f9d850bf",
   "metadata": {},
   "source": [
    "### 연습문제"
   ]
  },
  {
   "cell_type": "code",
   "execution_count": 5,
   "id": "bc6201c3",
   "metadata": {},
   "outputs": [
    {
     "name": "stdout",
     "output_type": "stream",
     "text": [
      "2 X 1 = 2\n",
      "2 X 2 = 4\n",
      "2 X 3 = 6\n",
      "2 X 4 = 8\n",
      "2 X 5 = 10\n",
      "2 X 6 = 12\n",
      "2 X 7 = 14\n",
      "2 X 8 = 16\n",
      "2 X 9 = 18\n"
     ]
    }
   ],
   "source": [
    "#문제 1. 구구단 출력\n",
    "# 2X1=2\n",
    "# 2X2=4\n",
    "# ...\n",
    "# 2X9=18\n",
    "for i in range(1,10):\n",
    "    print(f\"2 X {i} = {2*i}\")"
   ]
  },
  {
   "cell_type": "code",
   "execution_count": 7,
   "id": "f50293d0",
   "metadata": {},
   "outputs": [
    {
     "name": "stdout",
     "output_type": "stream",
     "text": [
      "단 수를 입력해 주세요 : 6\n",
      "6 X 1 = 6\n",
      "6 X 2 = 12\n",
      "6 X 3 = 18\n",
      "6 X 4 = 24\n",
      "6 X 5 = 30\n",
      "6 X 6 = 36\n",
      "6 X 7 = 42\n",
      "6 X 8 = 48\n",
      "6 X 9 = 54\n"
     ]
    }
   ],
   "source": [
    "num=int(input(\"단 수를 입력해 주세요 : \"))\n",
    "\n",
    "for i in range(1,10):\n",
    "    print(f\"{num} X {i} = {num*i}\")"
   ]
  },
  {
   "cell_type": "code",
   "execution_count": 22,
   "id": "babd74fb",
   "metadata": {},
   "outputs": [
    {
     "name": "stdout",
     "output_type": "stream",
     "text": [
      "  구구단 2단을 출력합니다\n",
      "\t2 X 1 = 2\n",
      "\t2 X 2 = 4\n",
      "\t2 X 3 = 6\n",
      "\t2 X 4 = 8\n",
      "\t2 X 5 = 10\n",
      "\t2 X 6 = 12\n",
      "\t2 X 7 = 14\n",
      "\t2 X 8 = 16\n",
      "\t2 X 9 = 18\n",
      "\n",
      "\n",
      "  구구단 3단을 출력합니다\n",
      "\t3 X 1 = 3\n",
      "\t3 X 2 = 6\n",
      "\t3 X 3 = 9\n",
      "\t3 X 4 = 12\n",
      "\t3 X 5 = 15\n",
      "\t3 X 6 = 18\n",
      "\t3 X 7 = 21\n",
      "\t3 X 8 = 24\n",
      "\t3 X 9 = 27\n",
      "\n",
      "\n",
      "  구구단 4단을 출력합니다\n",
      "\t4 X 1 = 4\n",
      "\t4 X 2 = 8\n",
      "\t4 X 3 = 12\n",
      "\t4 X 4 = 16\n",
      "\t4 X 5 = 20\n",
      "\t4 X 6 = 24\n",
      "\t4 X 7 = 28\n",
      "\t4 X 8 = 32\n",
      "\t4 X 9 = 36\n",
      "\n",
      "\n",
      "  구구단 5단을 출력합니다\n",
      "\t5 X 1 = 5\n",
      "\t5 X 2 = 10\n",
      "\t5 X 3 = 15\n",
      "\t5 X 4 = 20\n",
      "\t5 X 5 = 25\n",
      "\t5 X 6 = 30\n",
      "\t5 X 7 = 35\n",
      "\t5 X 8 = 40\n",
      "\t5 X 9 = 45\n",
      "\n",
      "\n",
      "  구구단 6단을 출력합니다\n",
      "\t6 X 1 = 6\n",
      "\t6 X 2 = 12\n",
      "\t6 X 3 = 18\n",
      "\t6 X 4 = 24\n",
      "\t6 X 5 = 30\n",
      "\t6 X 6 = 36\n",
      "\t6 X 7 = 42\n",
      "\t6 X 8 = 48\n",
      "\t6 X 9 = 54\n",
      "\n",
      "\n",
      "  구구단 7단을 출력합니다\n",
      "\t7 X 1 = 7\n",
      "\t7 X 2 = 14\n",
      "\t7 X 3 = 21\n",
      "\t7 X 4 = 28\n",
      "\t7 X 5 = 35\n",
      "\t7 X 6 = 42\n",
      "\t7 X 7 = 49\n",
      "\t7 X 8 = 56\n",
      "\t7 X 9 = 63\n",
      "\n",
      "\n",
      "  구구단 8단을 출력합니다\n",
      "\t8 X 1 = 8\n",
      "\t8 X 2 = 16\n",
      "\t8 X 3 = 24\n",
      "\t8 X 4 = 32\n",
      "\t8 X 5 = 40\n",
      "\t8 X 6 = 48\n",
      "\t8 X 7 = 56\n",
      "\t8 X 8 = 64\n",
      "\t8 X 9 = 72\n",
      "\n",
      "\n",
      "  구구단 9단을 출력합니다\n",
      "\t9 X 1 = 9\n",
      "\t9 X 2 = 18\n",
      "\t9 X 3 = 27\n",
      "\t9 X 4 = 36\n",
      "\t9 X 5 = 45\n",
      "\t9 X 6 = 54\n",
      "\t9 X 7 = 63\n",
      "\t9 X 8 = 72\n",
      "\t9 X 9 = 81\n",
      "\n",
      "\n"
     ]
    }
   ],
   "source": [
    "#2단부터 9단까지\n",
    "\n",
    "for i in range(2,10):\n",
    "    print(f\"  구구단 {i}단을 출력합니다\")\n",
    "    for j in range(1,10):\n",
    "        print(f\"\\t{i} X {j} = {j*i}\")\n",
    "    print(\"\\n\")"
   ]
  },
  {
   "cell_type": "code",
   "execution_count": 25,
   "id": "a79309f8",
   "metadata": {},
   "outputs": [
    {
     "name": "stdout",
     "output_type": "stream",
     "text": [
      "2\n",
      "4\n",
      "6\n",
      "8\n",
      "10\n",
      "11\n",
      "12\n",
      "14\n",
      "16\n",
      "18\n",
      "20\n",
      "22\n",
      "24\n",
      "26\n",
      "28\n",
      "30\n"
     ]
    }
   ],
   "source": [
    "#문제 2. 1~30까지 정수 중 2 또는 11의 배수를 모두 출력하시오\n",
    "\n",
    "for i in range(1,31):\n",
    "    if i%2==0 or i%11==0:\n",
    "        print(i)"
   ]
  },
  {
   "cell_type": "code",
   "execution_count": null,
   "id": "f8f68eb9",
   "metadata": {},
   "outputs": [],
   "source": []
  },
  {
   "cell_type": "code",
   "execution_count": null,
   "id": "92760966",
   "metadata": {},
   "outputs": [],
   "source": []
  },
  {
   "cell_type": "code",
   "execution_count": null,
   "id": "4bfd19e6",
   "metadata": {},
   "outputs": [],
   "source": []
  },
  {
   "cell_type": "code",
   "execution_count": null,
   "id": "f6c7970a",
   "metadata": {},
   "outputs": [],
   "source": []
  },
  {
   "cell_type": "code",
   "execution_count": null,
   "id": "ddaf7a4c",
   "metadata": {},
   "outputs": [],
   "source": []
  },
  {
   "cell_type": "code",
   "execution_count": null,
   "id": "abb1c1d6",
   "metadata": {},
   "outputs": [],
   "source": []
  },
  {
   "cell_type": "code",
   "execution_count": null,
   "id": "b9e1ad94",
   "metadata": {},
   "outputs": [],
   "source": []
  },
  {
   "cell_type": "code",
   "execution_count": null,
   "id": "bef825e8",
   "metadata": {},
   "outputs": [],
   "source": []
  },
  {
   "cell_type": "code",
   "execution_count": null,
   "id": "627ffd22",
   "metadata": {},
   "outputs": [],
   "source": []
  }
 ],
 "metadata": {
  "kernelspec": {
   "display_name": "Python 3 (ipykernel)",
   "language": "python",
   "name": "python3"
  },
  "language_info": {
   "codemirror_mode": {
    "name": "ipython",
    "version": 3
   },
   "file_extension": ".py",
   "mimetype": "text/x-python",
   "name": "python",
   "nbconvert_exporter": "python",
   "pygments_lexer": "ipython3",
   "version": "3.9.13"
  }
 },
 "nbformat": 4,
 "nbformat_minor": 5
}
